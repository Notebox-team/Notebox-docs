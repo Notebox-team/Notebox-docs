{
  "nbformat": 4,
  "nbformat_minor": 0,
  "metadata": {
    "colab": {
      "name": "Notebox specified commercial.ipynb",
      "provenance": []
    },
    "kernelspec": {
      "name": "python3",
      "display_name": "Python 3"
    },
    "language_info": {
      "name": "python"
    }
  },
  "cells": [
    {
      "cell_type": "markdown",
      "metadata": {
        "id": "PqeObcbW4MHN"
      },
      "source": [
        "# **特定商取引法に基づく表記**\n",
        "\n",
        "## 事業者\n",
        "アポロン株式会社\n",
        "\n",
        "## 事業者の所在\n",
        "〒?\n",
        "\n",
        "?\n",
        "\n",
        "TEL: ?\n",
        "※ お問い合わせは下記のメールアドレスもしくはフォームからのみ受け付けています。\n",
        "\n",
        "お問合せ先\n",
        "noteboxteam@gmail.com\n",
        "\n",
        "## 販売価格と手数料\n",
        "消費税および手数料を含む価格で表示されています。[利用規約](https://notebox.jp/terms)をご参照ください。\n",
        "\n",
        "## お支払方法\n",
        "クレジットカード（Visa/Master/American Express/Diners Club）\n",
        "\n",
        "## 個人情報の取扱いについて\n",
        "[プライバシーポリシー](https://notebox.jp/privacy)をご参照ください。\n",
        "\n",
        "## キャンセルについて\n",
        "コピー可能なデジタルコンテンツであるため、ご購入者様の都合による返品・返金・キャンセルは一切できません。商品違いであっても、返金は致し兼ねますので、予めご了承ください。\n",
        "\n",
        "## コンテンツの閲覧保証ブラウザ\n",
        "Chrome/Safari/FireFox/Edge/iOS Safari/Android Chromeの各最新版\n",
        "\n",
        "## 商品の引き渡し時期\n",
        "有料コンテンツを購入した場合、決済手続き完了後、すぐに閲覧できるようになります。\n",
        "\n",
        "## その他\n",
        "[利用規約](https://notebox.jp/terms)をご参照ください。\n",
        "\n",
        "※上記以外の事項につきましては、お取引の際に請求があれば遅滞なく提示いたします。"
      ]
    }
  ]
}