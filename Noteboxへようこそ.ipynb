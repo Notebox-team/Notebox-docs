{
  "nbformat": 4,
  "nbformat_minor": 0,
  "metadata": {
    "colab": {
      "name": "Noteboxへようこそ.ipynb",
      "provenance": []
    },
    "kernelspec": {
      "name": "python3",
      "display_name": "Python 3"
    },
    "language_info": {
      "name": "python"
    }
  },
  "cells": [
    {
      "cell_type": "markdown",
      "metadata": {
        "id": "WIlKxfiYepG-"
      },
      "source": [
        "# Noteboxへようこそ\n",
        "Noteboxでは自分のJupyter Notebookを読みやすく、すぐに試せる記事として公開することができます。あらゆるサイエンス領域の知見を見つけて、自分なりに活用していきましょう！\n",
        "\n",
        "## なぜJupyter Notebookか？\n",
        "[Jupyter Notebook](https://jupyter.org/)は解析や処理の記録だけでなく、それらに関して画像や表、グラフ、数式など表現力豊かな方法で説明を加えていくことができます。また、サポートされている実行環境も豊富なので、あらゆるところですぐに試せる・再現できるというメリットもあります。そのため、コードの単なる共有だけでなく、教材やプレゼンテーションなどにもよく使われているツールです。教材であれば、試したり、上書きしながら学んでいくことができます。プレゼンテーションであれば、各解析・処理を入出力とともに証明しながら、それらをわかりやすく説明していくことができます。\n",
        "\n",
        "NoteboxではNotebookを追加すると読みやすい記事として公開されます。また、Notebookをその場でダウンロードできたり、他の実行環境にすぐに移れたりするので、すぐに自分なりの方法で活用することができます。\n",
        "\n",
        "# 使い方\n",
        "\n",
        "## 記事を追加する\n",
        "記事はNoteboxのヘッダー右上にある「+ </>」ボタンを押した後の[追加ページ](https://notebox.jp/articles/add)で追加することができます。現在２種類の方法で記事を追加することができます。\n",
        "\n",
        "### 1. ローカルから追加\n",
        "まずはローカルにNotebookファイルを準備します。[Google Colaboratory](https://colab.research.google.com/)や[Kaggle](https://www.kaggle.com/)などのオンライン環境で作成した場合は、そのNotebookファイルをあらかじめダウンロードする必要があります。\n",
        "* Google colaboratoryの場合：左上の「ファイル」 > 「ダウンロード」 > 「.ipynbをダウンロード」 でダウンロードできます。\n",
        "* Kaggleの場合：編集画面からは、File > Dowonload Notebook、公開されたページからは、右上の3点マーク > Download code でダウンロードできます。\n",
        "\n",
        "次に[追加ページ](https://notebox.jp/articles/add)の「Notebookの追加」で「FROM LOCAL」を選び、「UPLOAD」ボタンを押すとローカルのNotebookファイルをアップロードできます。\n",
        "\n",
        "最後に、タイトル・サムネイル画像・タグを追加すると記事として公開することができます。\n",
        "\n",
        "**公開された記事では、ダウンロードボタンを押すと対応するNotebookファイルをダウンロードすることができます。**\n",
        "\n",
        "### 2. Githubから追加\n",
        "GithubレポジトリでNotebookファイルを管理している方は、[追加ページ](https://notebox.jp/articles/add)の「Notebookの追加」で「FROM GITHUB」を選び、「GITHUBと連携する」ボタンを押すと、その場で自分のレポジトリ（現在はパブリックのみ）をブラウジングしてNotebookファイルを選択することができるようになります。\n",
        "\n",
        "最後に、タイトル・サムネイル画像・タグを追加すると記事として公開することができます。\n",
        "\n",
        "**公開された記事では、Githubマークのボタンを押すと対応するGithubページへ移動でき、また再生ボタンを押すとGoogle colaboratoryでNotebookを実行することができます。**（現在はGoogle colaboratory対応のみですが、実行環境を拡張していく予定です。）"
      ]
    },
    {
      "cell_type": "markdown",
      "metadata": {
        "id": "YrXVmY6otjCV"
      },
      "source": [
        "## 記事を編集する\n",
        "自分の記事ページ、または自分のアカウントページから記事の編集ページに移ることができます。\n",
        "編集ページではNotebookファイル・タイトル・サムネイル画像・タグを編集できます。\n",
        "Notebookファイルは、現在Notebox上では編集することはできません。ローカル、またはオンラインで対応するNotebookを更新した後、ローカルから対応するファイルをアップロードするか、対応するGithubレポジトリのファイルを選択することで更新することができます。"
      ]
    },
    {
      "cell_type": "markdown",
      "metadata": {
        "id": "QEYRH1DT43yu"
      },
      "source": [
        "# フィードバックする\n",
        "現在Noteboxは最小限の機能を実装しております。こんな機能が欲しい、もっとこうして欲しい、などご要望がございましたら、[TwitterのDM](https://twitter.com/Notebox5)、[Slackコミュニティ](https://join.slack.com/t/noteboxusercommunity/shared_invite/zt-rvx96n00-tH4rGBrHs3xbv1xf4A5Y~Q)からお問い合わせ下さい。"
      ]
    }
  ]
}